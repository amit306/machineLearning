{
  "nbformat": 4,
  "nbformat_minor": 0,
  "metadata": {
    "colab": {
      "provenance": [],
      "authorship_tag": "ABX9TyPwZHqTXgkE+pp3r4cyisqc",
      "include_colab_link": true
    },
    "kernelspec": {
      "name": "python3",
      "display_name": "Python 3"
    },
    "language_info": {
      "name": "python"
    }
  },
  "cells": [
    {
      "cell_type": "markdown",
      "metadata": {
        "id": "view-in-github",
        "colab_type": "text"
      },
      "source": [
        "<a href=\"https://colab.research.google.com/github/amit306/machineLearning/blob/main/BasicNeuralNetwork.ipynb\" target=\"_parent\"><img src=\"https://colab.research.google.com/assets/colab-badge.svg\" alt=\"Open In Colab\"/></a>"
      ]
    },
    {
      "cell_type": "code",
      "execution_count": null,
      "metadata": {
        "id": "E4w_oGClwXXJ"
      },
      "outputs": [],
      "source": [
        "import random\n",
        "import math"
      ]
    },
    {
      "cell_type": "code",
      "source": [
        "import random\n",
        "import math\n",
        "\n",
        "# --- Activation functions ---\n",
        "def sigmoid(x):\n",
        "    return 1.0 / (1.0 + math.exp(-x))\n",
        "\n",
        "def sigmoid_derivative(y):\n",
        "    return y * (1.0 - y)  # assumes input is already sigmoid(x)\n",
        "\n",
        "# --- Neural Network Class ---\n",
        "class NeuralNetwork:\n",
        "    def __init__(self, num_inputs, num_hidden, num_outputs):\n",
        "        self.num_inputs = num_inputs\n",
        "        self.num_hidden = num_hidden\n",
        "        self.num_outputs = num_outputs\n",
        "\n",
        "        # Random weights for input to hidden layer\n",
        "        self.weights_input_hidden = [\n",
        "            [random.uniform(-1, 1) for _ in range(self.num_hidden)]\n",
        "            for _ in range(self.num_inputs)\n",
        "        ]\n",
        "\n",
        "        # Random weights for hidden to output layer\n",
        "        self.weights_hidden_output = [\n",
        "            [random.uniform(-1, 1) for _ in range(self.num_outputs)]\n",
        "            for _ in range(self.num_hidden)\n",
        "        ]\n",
        "\n",
        "        # Biases\n",
        "        self.bias_hidden = [random.uniform(-1, 1) for _ in range(self.num_hidden)]\n",
        "        self.bias_output = [random.uniform(-1, 1) for _ in range(self.num_outputs)]\n",
        "\n",
        "        # Learning rate\n",
        "        self.lr = 0.5\n",
        "\n",
        "    def forward(self, inputs):\n",
        "        # Calculate hidden layer activations\n",
        "        hidden_outputs = []\n",
        "        for j in range(self.num_hidden):\n",
        "            activation = self.bias_hidden[j]\n",
        "            for i in range(self.num_inputs):\n",
        "                activation += inputs[i] * self.weights_input_hidden[i][j]\n",
        "            hidden_outputs.append(sigmoid(activation))\n",
        "\n",
        "        # Calculate final output\n",
        "        final_outputs = []\n",
        "        for k in range(self.num_outputs):\n",
        "            activation = self.bias_output[k]\n",
        "            for j in range(self.num_hidden):\n",
        "                activation += hidden_outputs[j] * self.weights_hidden_output[j][k]\n",
        "            final_outputs.append(sigmoid(activation))\n",
        "\n",
        "        return hidden_outputs, final_outputs\n",
        "\n",
        "    def train(self, data, epochs=10000):\n",
        "        for epoch in range(epochs):\n",
        "            total_loss = 0.0  # Mean Squared Error for this epoch\n",
        "\n",
        "            for inputs, targets in data:\n",
        "                # Forward pass\n",
        "                hidden_outputs, final_outputs = self.forward(inputs)\n",
        "\n",
        "                # Output errors\n",
        "                output_errors = [targets[k] - final_outputs[k] for k in range(self.num_outputs)]\n",
        "                total_loss += sum((e ** 2 for e in output_errors)) / len(output_errors)\n",
        "\n",
        "                # Hidden layer errors\n",
        "                hidden_errors = [0.0] * self.num_hidden\n",
        "                for j in range(self.num_hidden):\n",
        "                    error = 0.0\n",
        "                    for k in range(self.num_outputs):\n",
        "                        error += output_errors[k] * self.weights_hidden_output[j][k]\n",
        "                    hidden_errors[j] = error\n",
        "\n",
        "                # Update weights: hidden to output\n",
        "                for j in range(self.num_hidden):\n",
        "                    for k in range(self.num_outputs):\n",
        "                        delta = self.lr * output_errors[k] * sigmoid_derivative(final_outputs[k]) * hidden_outputs[j]\n",
        "                        self.weights_hidden_output[j][k] += delta\n",
        "\n",
        "                # Update output biases\n",
        "                for k in range(self.num_outputs):\n",
        "                    delta = self.lr * output_errors[k] * sigmoid_derivative(final_outputs[k])\n",
        "                    self.bias_output[k] += delta\n",
        "\n",
        "                # Update weights: input to hidden\n",
        "                for i in range(self.num_inputs):\n",
        "                    for j in range(self.num_hidden):\n",
        "                        delta = self.lr * hidden_errors[j] * sigmoid_derivative(hidden_outputs[j]) * inputs[i]\n",
        "                        self.weights_input_hidden[i][j] += delta\n",
        "\n",
        "                # Update hidden biases\n",
        "                for j in range(self.num_hidden):\n",
        "                    delta = self.lr * hidden_errors[j] * sigmoid_derivative(hidden_outputs[j])\n",
        "                    self.bias_hidden[j] += delta\n",
        "\n",
        "            # Print loss every 1000 epochs\n",
        "            if epoch % 1000 == 0:\n",
        "                print(f\"Epoch {epoch}: Loss = {total_loss:.6f}\")\n",
        "\n",
        "    def predict(self, inputs):\n",
        "        _, outputs = self.forward(inputs)\n",
        "        return outputs\n",
        "\n",
        "# --- Training XOR ---\n",
        "if __name__ == \"__main__\":\n",
        "    # XOR truth table\n",
        "    training_data = [\n",
        "        ([0, 0], [0]),\n",
        "        ([0, 1], [1]),\n",
        "        ([1, 0], [1]),\n",
        "        ([1, 1], [0])\n",
        "    ]\n",
        "\n",
        "    nn = NeuralNetwork(num_inputs=2, num_hidden=2, num_outputs=1)\n",
        "    nn.train(training_data, epochs=10000)\n",
        "\n",
        "    # Test predictions\n",
        "    print(\"\\n--- Predictions After Training ---\")\n",
        "    for inputs, _ in training_data:\n",
        "        output = nn.predict(inputs)\n",
        "        print(f\"Input: {inputs} => Output: {output[0]:.4f}\")\n"
      ],
      "metadata": {
        "colab": {
          "base_uri": "https://localhost:8080/"
        },
        "id": "O5y0w1Hy1atH",
        "outputId": "d50c3968-8cfa-4c4e-9aa6-a92677933fe8"
      },
      "execution_count": null,
      "outputs": [
        {
          "output_type": "stream",
          "name": "stdout",
          "text": [
            "Epoch 0: Loss = 1.074533\n",
            "Epoch 1000: Loss = 0.043105\n",
            "Epoch 2000: Loss = 0.007839\n",
            "Epoch 3000: Loss = 0.004230\n",
            "Epoch 4000: Loss = 0.002888\n",
            "Epoch 5000: Loss = 0.002190\n",
            "Epoch 6000: Loss = 0.001763\n",
            "Epoch 7000: Loss = 0.001475\n",
            "Epoch 8000: Loss = 0.001268\n",
            "Epoch 9000: Loss = 0.001112\n",
            "\n",
            "--- Predictions After Training ---\n",
            "Input: [0, 0] => Output: 0.0167\n",
            "Input: [0, 1] => Output: 0.9852\n",
            "Input: [1, 0] => Output: 0.9852\n",
            "Input: [1, 1] => Output: 0.0165\n"
          ]
        }
      ]
    },
    {
      "cell_type": "code",
      "source": [],
      "metadata": {
        "id": "FwriD0xgzPuy"
      },
      "execution_count": null,
      "outputs": []
    }
  ]
}